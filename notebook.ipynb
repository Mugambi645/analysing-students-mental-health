{
 "cells": [
  {
   "cell_type": "markdown",
   "id": "3b05e587-87e3-4bec-9511-ddaae6552ac4",
   "metadata": {},
   "source": [
    "![Illustration of silhouetted heads](mentalhealth.jpg)"
   ]
  },
  {
   "cell_type": "markdown",
   "id": "dbd633ea-2c0a-4bac-a6fe-0cc86896162b",
   "metadata": {},
   "source": [
    "Does going to university in a different country affect your mental health? A Japanese international university surveyed its students in 2018 and published a study the following year that was approved by several ethical and regulatory boards.\n",
    "\n",
    "The study found that international students have a higher risk of mental health difficulties than the general population, and that social connectedness (belonging to a social group) and acculturative stress (stress associated with joining a new culture) are predictive of depression.\n",
    "\n",
    "\n",
    "Explore the `students` data using PostgreSQL to find out if you would come to a similar conclusion for international students and see if the length of stay is a contributing factor.\n",
    "\n",
    "Here is a data description of the columns you may find helpful."
   ]
  },
  {
   "cell_type": "markdown",
   "id": "167d9c0e-7aba-4e44-99e3-679159e28970",
   "metadata": {},
   "source": [
    "| Field Name    | Description                                      |\n",
    "| ------------- | ------------------------------------------------ |\n",
    "| `inter_dom`     | Types of students (international or domestic)   |\n",
    "| `japanese_cate` | Japanese language proficiency                    |\n",
    "| `english_cate`  | English language proficiency                     |\n",
    "| `academic`      | Current academic level (undergraduate or graduate) |\n",
    "| `age`           | Current age of student                           |\n",
    "| `stay`          | Current length of stay in years                  |\n",
    "| `todep`         | Total score of depression (PHQ-9 test)           |\n",
    "| `tosc`          | Total score of social connectedness (SCS test)   |\n",
    "| `toas`          | Total score of acculturative stress (ASISS test) |"
   ]
  },
  {
   "cell_type": "code",
   "execution_count": 2,
   "id": "6f426785-63d5-4edb-92d7-6c6dddf0b2f6",
   "metadata": {},
   "outputs": [],
   "source": [
    "# import packages\n",
    "import pandas as pd\n",
    "import sqlite3"
   ]
  },
  {
   "cell_type": "code",
   "execution_count": 2,
   "id": "96fc8361-a8e9-4e09-be09-31978dd717c5",
   "metadata": {},
   "outputs": [],
   "source": [
    "# import students data\n",
    "students = pd.read_csv(\"students.csv\")\n",
    "# convert students csv data to sqlite3 db\n",
    "students = students.to_sql(\"students\", )\n"
   ]
  },
  {
   "cell_type": "code",
   "execution_count": 1,
   "id": "a60a4d75-634c-4965-8e01-804780e6df98",
   "metadata": {
    "customType": "sql",
    "dataFrameVariableName": "students",
    "executionCancelledAt": null,
    "executionTime": 1797,
    "lastExecutedAt": 1723111976164,
    "lastExecutedByKernel": "a5a6815a-6e7e-4b46-a013-f25340d33f2a",
    "lastScheduledRunId": null,
    "lastSuccessfullyExecutedCode": "-- Run this code to view the data in students\nSELECT * \nFROM students;",
    "outputsMetadata": {
     "0": {
      "height": 336,
      "type": "dataFrame"
     }
    },
    "sqlCellMode": "dataFrame",
    "sqlSource": {
     "integrationId": "89e17161-a224-4a8a-846b-0adc0fe7a4b1",
     "integrationType": "postgresql",
     "type": "integration"
    }
   },
   "outputs": [
    {
     "ename": "SyntaxError",
     "evalue": "invalid syntax (1146041845.py, line 1)",
     "output_type": "error",
     "traceback": [
      "\u001b[0;36m  Cell \u001b[0;32mIn[1], line 1\u001b[0;36m\u001b[0m\n\u001b[0;31m    -- Run this code to view the data in students\u001b[0m\n\u001b[0m           ^\u001b[0m\n\u001b[0;31mSyntaxError\u001b[0m\u001b[0;31m:\u001b[0m invalid syntax\n"
     ]
    }
   ],
   "source": [
    "\n",
    "\n",
    "-- Run this code to view the data in students\n",
    "SELECT * \n",
    "FROM students;"
   ]
  },
  {
   "cell_type": "code",
   "execution_count": null,
   "id": "ab01f727-3ae9-491a-bf8b-6d507e7dbf15",
   "metadata": {
    "customType": "sql",
    "dataFrameVariableName": "df",
    "executionCancelledAt": null,
    "executionTime": 1135,
    "lastExecutedAt": 1723112612989,
    "lastExecutedByKernel": "a5a6815a-6e7e-4b46-a013-f25340d33f2a",
    "lastScheduledRunId": null,
    "lastSuccessfullyExecutedCode": "-- Check columns \nSELECT column_name, data_type, is_nullable, column_default\nFROM information_schema.columns\nWHERE table_name = 'students';",
    "outputsMetadata": {
     "0": {
      "height": 321,
      "type": "dataFrame"
     }
    },
    "sqlCellMode": "dataFrame",
    "sqlSource": {
     "integrationId": "89e17161-a224-4a8a-846b-0adc0fe7a4b1",
     "integrationType": "postgresql",
     "type": "integration"
    }
   },
   "outputs": [],
   "source": [
    "-- Check columns \n",
    "SELECT column_name, data_type, is_nullable, column_default\n",
    "FROM information_schema.columns\n",
    "WHERE table_name = 'students';"
   ]
  },
  {
   "cell_type": "code",
   "execution_count": null,
   "id": "dc15df33-c398-4202-83a7-8aab1e99181a",
   "metadata": {
    "executionCancelledAt": null,
    "executionTime": 4522,
    "lastExecutedAt": 1723112745246,
    "lastExecutedByKernel": "a5a6815a-6e7e-4b46-a013-f25340d33f2a",
    "lastScheduledRunId": null,
    "lastSuccessfullyExecutedCode": "import sqlite3\n\n# Assuming you have a connection to your SQLite database\nconn = sqlite3.connect('your_database.db')\ncursor = conn.cursor()\n\nquery = \"\"\"\nSELECT stay, \n       COUNT(*) AS count_int,\n       ROUND(AVG(todep), 2) AS average_phq, \n       ROUND(AVG(tosc), 2) AS average_scs, \n       ROUND(AVG(toas), 2) AS average_as\nFROM students\nWHERE inter_dom = 'Inter'\nGROUP BY stay\nORDER BY stay DESC;\n\"\"\"\n\ncursor.execute(query)\nresults = cursor.fetchall()\n\nfor row in results:\n    print(row)\n\nconn.close()"
   },
   "outputs": [],
   "source": [
    "import sqlite3\n",
    "import pandas as pd\n",
    "\n",
    "# Assuming you have a connection to your SQLite database\n",
    "conn = sqlite3.connect('your_database.db')\n",
    "cursor = conn.cursor()\n",
    "\n",
    "query = \"\"\"\n",
    "SELECT stay, \n",
    "       COUNT(*) AS count_int,\n",
    "       ROUND(AVG(todep), 2) AS average_phq, \n",
    "       ROUND(AVG(tosc), 2) AS average_scs, \n",
    "       ROUND(AVG(toas), 2) AS average_as\n",
    "FROM students\n",
    "WHERE inter_dom = 'Inter'\n",
    "GROUP BY stay\n",
    "ORDER BY stay DESC;\n",
    "\"\"\"\n",
    "\n",
    "cursor.execute(query)\n",
    "results = cursor.fetchall()\n",
    "\n",
    "for row in results:\n",
    "    print(row)\n",
    "\n",
    "conn.close()"
   ]
  }
 ],
 "metadata": {
  "colab": {
   "name": "Welcome to DataCamp Workspaces.ipynb",
   "provenance": []
  },
  "kernelspec": {
   "display_name": "Python 3 (ipykernel)",
   "language": "python",
   "name": "python3"
  },
  "language_info": {
   "codemirror_mode": {
    "name": "ipython",
    "version": 3
   },
   "file_extension": ".py",
   "mimetype": "text/x-python",
   "name": "python",
   "nbconvert_exporter": "python",
   "pygments_lexer": "ipython3",
   "version": "3.10.9"
  }
 },
 "nbformat": 4,
 "nbformat_minor": 5
}
