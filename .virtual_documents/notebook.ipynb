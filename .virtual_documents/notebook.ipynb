








# import packages
import pandas as pd
import sqlite3


# import students data
students = pd.read_csv("students.csv")
# convert students csv data to sqlite3 db
students = students.to_sql("students", )





-- Run this code to view the data in students
SELECT * 
FROM students;


-- Check columns 
SELECT column_name, data_type, is_nullable, column_default
FROM information_schema.columns
WHERE table_name = 'students';


import sqlite3
import pandas as pd

# Assuming you have a connection to your SQLite database
conn = sqlite3.connect('your_database.db')
cursor = conn.cursor()

query = """
SELECT stay, 
       COUNT(*) AS count_int,
       ROUND(AVG(todep), 2) AS average_phq, 
       ROUND(AVG(tosc), 2) AS average_scs, 
       ROUND(AVG(toas), 2) AS average_as
FROM students
WHERE inter_dom = 'Inter'
GROUP BY stay
ORDER BY stay DESC;
"""

cursor.execute(query)
results = cursor.fetchall()

for row in results:
    print(row)

conn.close()
