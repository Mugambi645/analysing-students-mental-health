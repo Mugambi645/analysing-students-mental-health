








# import packages
import pandas as pd
import sqlite3


# import students data
students = pd.read_csv("students.csv")




students.head()


# check columns 
students.columns



# check data types
students.dtypes


# connect to sqlite3 database
import sqlite3
conn = sqlite3.connect("data.sqlite")
cursor = conn.cursor()
all_data = pd.read_sql('''SELECT * FROM students''', conn)
all_data.head()






inter_dom = pd.read_sql('''SELECT inter_dom FROM students''', conn)
inter_dom


query = """
SELECT stay, 
       COUNT(*) AS count_int,
       ROUND(AVG(todep), 2) AS average_phq, 
       ROUND(AVG(tosc), 2) AS average_scs, 
       ROUND(AVG(toas), 2) AS average_as
FROM students
WHERE inter_dom = 'Inter'
GROUP BY stay
ORDER BY stay DESC;
"""
cursor.execute(query)
results = cursor.fetchall()

for row in results:
    print(row)




